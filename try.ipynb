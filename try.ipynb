{
 "cells": [
  {
   "cell_type": "markdown",
   "metadata": {},
   "source": [
    "#面对对象方法\n",
    "##结构化（顺序，条件，循环）   ##模块化（函数）\n",
    "##抽象和复用\n",
    "    1.对象：直接映射到现实事物的抽象事物\n",
    "    2.类：生产对象的流水线\n",
    "    3.属性：对象的一组数据\n",
    "    4.方法：对象的一组函数\n",
    "    5.关系：继承、覆盖、多态"
   ]
  },
  {
   "cell_type": "code",
   "execution_count": null,
   "metadata": {},
   "outputs": [],
   "source": []
  }
 ],
 "metadata": {
  "kernelspec": {
   "display_name": "Python 3",
   "language": "python",
   "name": "python3"
  },
  "language_info": {
   "codemirror_mode": {
    "name": "ipython",
    "version": 3
   },
   "file_extension": ".py",
   "mimetype": "text/x-python",
   "name": "python",
   "nbconvert_exporter": "python",
   "pygments_lexer": "ipython3",
   "version": "3.6.6"
  }
 },
 "nbformat": 4,
 "nbformat_minor": 4
}
